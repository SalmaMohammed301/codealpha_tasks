{
 "cells": [
  {
   "cell_type": "code",
   "execution_count": 2,
   "id": "539f439c-4990-4695-a3a7-4cbac9c22ef4",
   "metadata": {},
   "outputs": [
    {
     "name": "stdout",
     "output_type": "stream",
     "text": [
      "رد الشات بوت: ‫📅 اضغط على 'Start Planning' واملأ التفاصيل للحجز ‬.\n"
     ]
    }
   ],
   "source": [
    "import requests\n",
    "\n",
    "response = requests.post(\"http://127.0.0.1:5000/chat\", json={\"message\": \"ازاي احجز فستان؟\"})\n",
    "print(\"رد الشات بوت:\", response.json()[\"response\"])\n"
   ]
  },
  {
   "cell_type": "code",
   "execution_count": 4,
   "id": "9e0e5c56-fa8c-4f7e-9ca7-3e9a6a940f02",
   "metadata": {},
   "outputs": [
    {
     "name": "stdout",
     "output_type": "stream",
     "text": [
      "رد الشات بوت: 🌟 العفو! سعيد بمساعدتك 😊\n"
     ]
    }
   ],
   "source": [
    "import requests\n",
    "\n",
    "response = requests.post(\"http://127.0.0.1:5000/chat\", json={\"message\": \"تمام شكرا\"})\n",
    "print(\"رد الشات بوت:\", response.json()[\"response\"])\n"
   ]
  },
  {
   "cell_type": "code",
   "execution_count": 5,
   "id": "7ba47021-f37a-4076-9a0b-bed184a98998",
   "metadata": {},
   "outputs": [
    {
     "name": "stdout",
     "output_type": "stream",
     "text": [
      "\n",
      "🧑‍💻 سؤال: عاوز احجز مناسبة\n",
      "🤖 رد: ‫📅 دي مهمة سهلة! اضغط 'Start Planning' واملا بيانات المناسبة‬.\n",
      "\n",
      "🧑‍💻 سؤال: ازاي أستخدم التطبيق؟\n",
      "🤖 رد: ‫📅 اضغط على 'Start Planning' واملأ التفاصيل للحجز ‬.\n",
      "\n",
      "🧑‍💻 سؤال: الغيت الكوافير\n",
      "🤖 رد: ‫📌 للتحكم في الحجوزات (تعديل / إلغاء)، توجه لقسم 'My Events' واختر الإجراء المناسب ‬.\n",
      "---\n",
      "‫💄 احجز خدماتك بعد ملء تفاصيل المناسبة في 'Start Planning' ‬.\n",
      "\n",
      "🧑‍💻 سؤال: How can I cancel my event?\n",
      "🤖 رد: 📌 To edit or cancel a booking, go to 'My Events' and choose the option you need.\n",
      "\n",
      "🧑‍💻 سؤال: I want to book a suit\n",
      "🤖 رد: 📅 Easy! Just click 'Start Planning' and fill in the event details.\n"
     ]
    }
   ],
   "source": [
    "import requests\n",
    "\n",
    "questions = [\n",
    "    \"عاوز احجز مناسبة\",\n",
    "    \"ازاي أستخدم التطبيق؟\",\n",
    "    \"الغيت الكوافير\",\n",
    "    \"How can I cancel my event?\",\n",
    "    \"I want to book a suit\"\n",
    "]\n",
    "\n",
    "for q in questions:\n",
    "    res = requests.post(\"http://127.0.0.1:5000/chat\", json={\"message\": q})\n",
    "    print(f\"\\n🧑‍💻 سؤال: {q}\")\n",
    "    print(\"🤖 رد:\", res.json()[\"response\"])\n"
   ]
  },
  {
   "cell_type": "code",
   "execution_count": null,
   "id": "9a9760e8-5571-4ebf-a54a-930f02944b5f",
   "metadata": {},
   "outputs": [],
   "source": []
  }
 ],
 "metadata": {
  "kernelspec": {
   "display_name": "Python 3 (ipykernel)",
   "language": "python",
   "name": "python3"
  },
  "language_info": {
   "codemirror_mode": {
    "name": "ipython",
    "version": 3
   },
   "file_extension": ".py",
   "mimetype": "text/x-python",
   "name": "python",
   "nbconvert_exporter": "python",
   "pygments_lexer": "ipython3",
   "version": "3.12.7"
  }
 },
 "nbformat": 4,
 "nbformat_minor": 5
}
