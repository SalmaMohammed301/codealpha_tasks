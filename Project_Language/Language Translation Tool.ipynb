{
 "cells": [
  {
   "cell_type": "code",
   "execution_count": 19,
   "id": "b02162f4-3c8f-4e68-8014-c38182b3911b",
   "metadata": {},
   "outputs": [
    {
     "name": "stdout",
     "output_type": "stream",
     "text": [
      "Requirement already satisfied: deep-translator in c:\\etc\\lib\\site-packages (1.11.4)\n",
      "Requirement already satisfied: pyttsx3 in c:\\etc\\lib\\site-packages (2.99)\n",
      "Requirement already satisfied: pyperclip in c:\\etc\\lib\\site-packages (1.9.0)\n",
      "Requirement already satisfied: beautifulsoup4<5.0.0,>=4.9.1 in c:\\etc\\lib\\site-packages (from deep-translator) (4.12.3)\n",
      "Requirement already satisfied: requests<3.0.0,>=2.23.0 in c:\\etc\\lib\\site-packages (from deep-translator) (2.32.3)\n",
      "Requirement already satisfied: comtypes in c:\\etc\\lib\\site-packages (from pyttsx3) (1.4.11)\n",
      "Requirement already satisfied: pypiwin32 in c:\\etc\\lib\\site-packages (from pyttsx3) (223)\n",
      "Requirement already satisfied: pywin32 in c:\\etc\\lib\\site-packages (from pyttsx3) (305.1)\n",
      "Requirement already satisfied: soupsieve>1.2 in c:\\etc\\lib\\site-packages (from beautifulsoup4<5.0.0,>=4.9.1->deep-translator) (2.5)\n",
      "Requirement already satisfied: charset-normalizer<4,>=2 in c:\\etc\\lib\\site-packages (from requests<3.0.0,>=2.23.0->deep-translator) (3.3.2)\n",
      "Requirement already satisfied: idna<4,>=2.5 in c:\\etc\\lib\\site-packages (from requests<3.0.0,>=2.23.0->deep-translator) (2.10)\n",
      "Requirement already satisfied: urllib3<3,>=1.21.1 in c:\\etc\\lib\\site-packages (from requests<3.0.0,>=2.23.0->deep-translator) (2.2.3)\n",
      "Requirement already satisfied: certifi>=2017.4.17 in c:\\etc\\lib\\site-packages (from requests<3.0.0,>=2.23.0->deep-translator) (2024.8.30)\n"
     ]
    }
   ],
   "source": [
    "!pip install deep-translator pyttsx3 pyperclip\n"
   ]
  },
  {
   "cell_type": "code",
   "execution_count": 1,
   "id": "21ef9ea7-ee48-458f-9e28-b36ee32f9966",
   "metadata": {},
   "outputs": [
    {
     "name": "stdout",
     "output_type": "stream",
     "text": [
      "📚 Supported Languages:\n",
      "af, sq, am, ar, hy, as, ay, az, bm, eu, be, bn, bho, bs, bg, ca, ceb, ny, zh-CN, zh-TW, co, hr, cs, da, dv, doi, nl, en, eo, et, ee, tl, fi, fr, fy, gl, ka, de, el, gn, gu, ht, ha, haw, iw, hi, hmn, hu, is, ig, ilo, id, ga, it, ja, jw, kn, kk, km, rw, gom, ko, kri, ku, ckb, ky, lo, la, lv, ln, lt, lg, lb, mk, mai, mg, ms, ml, mt, mi, mr, mni-Mtei, lus, mn, my, ne, no, or, om, ps, fa, pl, pt, pa, qu, ro, ru, sm, sa, gd, nso, sr, st, sn, sd, si, sk, sl, so, es, su, sw, sv, tg, ta, tt, te, th, ti, ts, tr, tk, ak, uk, ur, ug, uz, vi, cy, xh, yi, yo, zu\n"
     ]
    },
    {
     "name": "stdin",
     "output_type": "stream",
     "text": [
      "\n",
      "📝 Enter text to translate:  عاوزة احجز لعبة\n",
      "🌐 Enter source language (e.g., english):  arabic\n",
      "🌐 Enter target language (e.g., arabic):  english\n"
     ]
    },
    {
     "name": "stdout",
     "output_type": "stream",
     "text": [
      "\n",
      "✅ Translated Text:\n",
      "I want to book a game\n"
     ]
    },
    {
     "name": "stdin",
     "output_type": "stream",
     "text": [
      "\n",
      "📋 Do you want to copy the translation? (y/n):  y\n"
     ]
    },
    {
     "name": "stdout",
     "output_type": "stream",
     "text": [
      "✔️ Copied to clipboard!\n"
     ]
    }
   ],
   "source": [
    "\n",
    "from deep_translator import GoogleTranslator\n",
    "import pyttsx3\n",
    "import pyperclip\n",
    "\n",
    "# عرض اللغات المدعومة\n",
    "langs_dict = GoogleTranslator().get_supported_languages(as_dict=True)\n",
    "langs_list = list(langs_dict.values())\n",
    "\n",
    "print(\"📚 Supported Languages:\")\n",
    "print(\", \".join(langs_list))\n",
    "\n",
    "# إدخال المستخدم\n",
    "text = input(\"\\n📝 Enter text to translate: \")\n",
    "source_lang = input(\"🌐 Enter source language (e.g., english): \").lower()\n",
    "target_lang = input(\"🌐 Enter target language (e.g., arabic): \").lower()\n",
    "\n",
    "# الترجمة\n",
    "try:\n",
    "    translated = GoogleTranslator(\n",
    "        source=source_lang,\n",
    "        target=target_lang\n",
    "    ).translate(text)\n",
    "\n",
    "    print(\"\\n✅ Translated Text:\")\n",
    "    print(translated)\n",
    "\n",
    "    # خيار النسخ\n",
    "    do_copy = input(\"\\n📋 Do you want to copy the translation? (y/n): \")\n",
    "    if do_copy.lower() == \"y\":\n",
    "        pyperclip.copy(translated)\n",
    "        print(\"✔️ Copied to clipboard!\")\n",
    "\n",
    "except Exception as e:\n",
    "    print(f\"❌ Error: {e}\")\n"
   ]
  },
  {
   "cell_type": "code",
   "execution_count": null,
   "id": "bb8e773c-ff96-4f03-9ed6-195ee7a15b54",
   "metadata": {},
   "outputs": [],
   "source": []
  }
 ],
 "metadata": {
  "kernelspec": {
   "display_name": "Python 3 (ipykernel)",
   "language": "python",
   "name": "python3"
  },
  "language_info": {
   "codemirror_mode": {
    "name": "ipython",
    "version": 3
   },
   "file_extension": ".py",
   "mimetype": "text/x-python",
   "name": "python",
   "nbconvert_exporter": "python",
   "pygments_lexer": "ipython3",
   "version": "3.12.7"
  }
 },
 "nbformat": 4,
 "nbformat_minor": 5
}
