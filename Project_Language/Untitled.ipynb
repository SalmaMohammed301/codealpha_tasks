{
 "cells": [
  {
   "cell_type": "code",
   "execution_count": 9,
   "id": "f71baa5a-6629-4ad5-8ab0-f3b388543e43",
   "metadata": {},
   "outputs": [
    {
     "name": "stdout",
     "output_type": "stream",
     "text": [
      "Found existing installation: argostranslate 1.9.6\n",
      "Uninstalling argostranslate-1.9.6:\n",
      "  Successfully uninstalled argostranslate-1.9.6\n",
      "Found existing installation: ctranslate2 4.6.0\n",
      "Uninstalling ctranslate2-4.6.0:\n",
      "  Successfully uninstalled ctranslate2-4.6.0\n",
      "Note: you may need to restart the kernel to use updated packages.\n"
     ]
    }
   ],
   "source": [
    "pip uninstall argostranslate ctranslate2 -y\n"
   ]
  },
  {
   "cell_type": "code",
   "execution_count": 8,
   "id": "d18340d0-1243-47a1-b261-ea37e658495c",
   "metadata": {},
   "outputs": [
    {
     "name": "stdout",
     "output_type": "stream",
     "text": [
      "Collecting argostranslate\n",
      "  Using cached argostranslate-1.9.6-py3-none-any.whl.metadata (10 kB)\n",
      "Collecting ctranslate2<5,>=4.0 (from argostranslate)\n",
      "  Using cached ctranslate2-4.6.0-cp312-cp312-win_amd64.whl.metadata (10 kB)\n",
      "Requirement already satisfied: packaging in c:\\etc\\lib\\site-packages (from argostranslate) (24.1)\n",
      "Requirement already satisfied: sacremoses==0.0.53 in c:\\etc\\lib\\site-packages (from argostranslate) (0.0.53)\n",
      "Requirement already satisfied: sentencepiece==0.2.0 in c:\\etc\\lib\\site-packages (from argostranslate) (0.2.0)\n",
      "Requirement already satisfied: stanza==1.1.1 in c:\\etc\\lib\\site-packages (from argostranslate) (1.1.1)\n",
      "Requirement already satisfied: regex in c:\\etc\\lib\\site-packages (from sacremoses==0.0.53->argostranslate) (2024.9.11)\n",
      "Requirement already satisfied: six in c:\\etc\\lib\\site-packages (from sacremoses==0.0.53->argostranslate) (1.16.0)\n",
      "Requirement already satisfied: click in c:\\etc\\lib\\site-packages (from sacremoses==0.0.53->argostranslate) (8.1.7)\n",
      "Requirement already satisfied: joblib in c:\\etc\\lib\\site-packages (from sacremoses==0.0.53->argostranslate) (1.4.2)\n",
      "Requirement already satisfied: tqdm in c:\\etc\\lib\\site-packages (from sacremoses==0.0.53->argostranslate) (4.66.5)\n",
      "Requirement already satisfied: numpy in c:\\etc\\lib\\site-packages (from stanza==1.1.1->argostranslate) (1.26.4)\n",
      "Requirement already satisfied: protobuf in c:\\etc\\lib\\site-packages (from stanza==1.1.1->argostranslate) (4.25.3)\n",
      "Requirement already satisfied: requests in c:\\etc\\lib\\site-packages (from stanza==1.1.1->argostranslate) (2.32.3)\n",
      "Requirement already satisfied: torch>=1.3.0 in c:\\etc\\lib\\site-packages (from stanza==1.1.1->argostranslate) (2.7.0)\n",
      "Requirement already satisfied: setuptools in c:\\etc\\lib\\site-packages (from ctranslate2<5,>=4.0->argostranslate) (75.1.0)\n",
      "Requirement already satisfied: pyyaml<7,>=5.3 in c:\\etc\\lib\\site-packages (from ctranslate2<5,>=4.0->argostranslate) (6.0.1)\n",
      "Requirement already satisfied: filelock in c:\\etc\\lib\\site-packages (from torch>=1.3.0->stanza==1.1.1->argostranslate) (3.13.1)\n",
      "Requirement already satisfied: typing-extensions>=4.10.0 in c:\\etc\\lib\\site-packages (from torch>=1.3.0->stanza==1.1.1->argostranslate) (4.11.0)\n",
      "Requirement already satisfied: sympy>=1.13.3 in c:\\etc\\lib\\site-packages (from torch>=1.3.0->stanza==1.1.1->argostranslate) (1.14.0)\n",
      "Requirement already satisfied: networkx in c:\\etc\\lib\\site-packages (from torch>=1.3.0->stanza==1.1.1->argostranslate) (3.3)\n",
      "Requirement already satisfied: jinja2 in c:\\etc\\lib\\site-packages (from torch>=1.3.0->stanza==1.1.1->argostranslate) (3.1.4)\n",
      "Requirement already satisfied: fsspec in c:\\etc\\lib\\site-packages (from torch>=1.3.0->stanza==1.1.1->argostranslate) (2024.6.1)\n",
      "Requirement already satisfied: colorama in c:\\etc\\lib\\site-packages (from click->sacremoses==0.0.53->argostranslate) (0.4.6)\n",
      "Requirement already satisfied: charset-normalizer<4,>=2 in c:\\etc\\lib\\site-packages (from requests->stanza==1.1.1->argostranslate) (3.3.2)\n",
      "Requirement already satisfied: idna<4,>=2.5 in c:\\etc\\lib\\site-packages (from requests->stanza==1.1.1->argostranslate) (2.10)\n",
      "Requirement already satisfied: urllib3<3,>=1.21.1 in c:\\etc\\lib\\site-packages (from requests->stanza==1.1.1->argostranslate) (2.2.3)\n",
      "Requirement already satisfied: certifi>=2017.4.17 in c:\\etc\\lib\\site-packages (from requests->stanza==1.1.1->argostranslate) (2024.8.30)\n",
      "Requirement already satisfied: mpmath<1.4,>=1.1.0 in c:\\etc\\lib\\site-packages (from sympy>=1.13.3->torch>=1.3.0->stanza==1.1.1->argostranslate) (1.3.0)\n",
      "Requirement already satisfied: MarkupSafe>=2.0 in c:\\etc\\lib\\site-packages (from jinja2->torch>=1.3.0->stanza==1.1.1->argostranslate) (2.1.3)\n",
      "Using cached argostranslate-1.9.6-py3-none-any.whl (34 kB)\n",
      "Using cached ctranslate2-4.6.0-cp312-cp312-win_amd64.whl (19.5 MB)\n",
      "Installing collected packages: ctranslate2, argostranslate\n",
      "Successfully installed argostranslate-1.9.6 ctranslate2-4.6.0\n",
      "Note: you may need to restart the kernel to use updated packages.\n"
     ]
    }
   ],
   "source": [
    "pip install argostranslate\n"
   ]
  },
  {
   "cell_type": "code",
   "execution_count": 10,
   "id": "d76bf42f-b38d-483a-afbb-413be419aa4e",
   "metadata": {},
   "outputs": [
    {
     "ename": "Exception",
     "evalue": "Not a valid Argos Model (must be a zip archive)",
     "output_type": "error",
     "traceback": [
      "\u001b[1;31m---------------------------------------------------------------------------\u001b[0m",
      "\u001b[1;31mException\u001b[0m                                 Traceback (most recent call last)",
      "Cell \u001b[1;32mIn[10], line 5\u001b[0m\n\u001b[0;32m      2\u001b[0m \u001b[38;5;28;01mimport\u001b[39;00m \u001b[38;5;21;01margostranslate\u001b[39;00m\u001b[38;5;21;01m.\u001b[39;00m\u001b[38;5;21;01mtranslate\u001b[39;00m\n\u001b[0;32m      4\u001b[0m \u001b[38;5;66;03m# تحميل ملف ترجمة بصيغة .argosmodel (من الموقع مثلاً)\u001b[39;00m\n\u001b[1;32m----> 5\u001b[0m argostranslate\u001b[38;5;241m.\u001b[39mpackage\u001b[38;5;241m.\u001b[39minstall_from_path(\u001b[38;5;124m\"\u001b[39m\u001b[38;5;124men_ar.argosmodel\u001b[39m\u001b[38;5;124m\"\u001b[39m)\n\u001b[0;32m      7\u001b[0m \u001b[38;5;66;03m# ترجمة\u001b[39;00m\n\u001b[0;32m      8\u001b[0m translated_text \u001b[38;5;241m=\u001b[39m argostranslate\u001b[38;5;241m.\u001b[39mtranslate\u001b[38;5;241m.\u001b[39mtranslate(\u001b[38;5;124m\"\u001b[39m\u001b[38;5;124mhello\u001b[39m\u001b[38;5;124m\"\u001b[39m, \u001b[38;5;124m\"\u001b[39m\u001b[38;5;124men\u001b[39m\u001b[38;5;124m\"\u001b[39m, \u001b[38;5;124m\"\u001b[39m\u001b[38;5;124mar\u001b[39m\u001b[38;5;124m\"\u001b[39m)\n",
      "File \u001b[1;32mC:\\etc\\Lib\\site-packages\\argostranslate\\package.py:249\u001b[0m, in \u001b[0;36minstall_from_path\u001b[1;34m(path)\u001b[0m\n",
      "\u001b[1;31mException\u001b[0m: Not a valid Argos Model (must be a zip archive)"
     ]
    }
   ],
   "source": [
    "import argostranslate.package\n",
    "import argostranslate.translate\n",
    "\n",
    "# تحميل ملف ترجمة بصيغة .argosmodel (من الموقع مثلاً)\n",
    "argostranslate.package.install_from_path(\"en_ar.argosmodel\")\n",
    "\n",
    "# ترجمة\n",
    "translated_text = argostranslate.translate.translate(\"hello\", \"en\", \"ar\")\n",
    "print(translated_text)\n"
   ]
  },
  {
   "cell_type": "code",
   "execution_count": 2,
   "id": "fa4d339f-8f5b-4859-bd17-3b3c9d91d4e4",
   "metadata": {},
   "outputs": [
    {
     "ename": "HTTPError",
     "evalue": "HTTP Error 404: Not Found",
     "output_type": "error",
     "traceback": [
      "\u001b[1;31m---------------------------------------------------------------------------\u001b[0m",
      "\u001b[1;31mHTTPError\u001b[0m                                 Traceback (most recent call last)",
      "Cell \u001b[1;32mIn[2], line 29\u001b[0m\n\u001b[0;32m     26\u001b[0m             \u001b[38;5;28;01mbreak\u001b[39;00m\n\u001b[0;32m     28\u001b[0m \u001b[38;5;66;03m# تحميل نموذج عربي ⇄ انجليزي كمثال (يمكنك إضافة نماذج أخرى بنفس الطريقة)\u001b[39;00m\n\u001b[1;32m---> 29\u001b[0m install_translation_package(\u001b[38;5;124m\"\u001b[39m\u001b[38;5;124men\u001b[39m\u001b[38;5;124m\"\u001b[39m, \u001b[38;5;124m\"\u001b[39m\u001b[38;5;124mar\u001b[39m\u001b[38;5;124m\"\u001b[39m)\n\u001b[0;32m     30\u001b[0m install_translation_package(\u001b[38;5;124m\"\u001b[39m\u001b[38;5;124mar\u001b[39m\u001b[38;5;124m\"\u001b[39m, \u001b[38;5;124m\"\u001b[39m\u001b[38;5;124men\u001b[39m\u001b[38;5;124m\"\u001b[39m)\n\u001b[0;32m     32\u001b[0m \u001b[38;5;66;03m# --- تحميل الحزم المثبتة ---\u001b[39;00m\n",
      "Cell \u001b[1;32mIn[2], line 13\u001b[0m, in \u001b[0;36minstall_translation_package\u001b[1;34m(from_code, to_code)\u001b[0m\n\u001b[0;32m     11\u001b[0m \u001b[38;5;28;01mdef\u001b[39;00m \u001b[38;5;21minstall_translation_package\u001b[39m(from_code, to_code):\n\u001b[0;32m     12\u001b[0m     url \u001b[38;5;241m=\u001b[39m \u001b[38;5;124m\"\u001b[39m\u001b[38;5;124mhttps://www.argosopentech.com/argospm/index.json\u001b[39m\u001b[38;5;124m\"\u001b[39m\n\u001b[1;32m---> 13\u001b[0m     response \u001b[38;5;241m=\u001b[39m urllib\u001b[38;5;241m.\u001b[39mrequest\u001b[38;5;241m.\u001b[39murlopen(url)\n\u001b[0;32m     14\u001b[0m     packages \u001b[38;5;241m=\u001b[39m response\u001b[38;5;241m.\u001b[39mread()\u001b[38;5;241m.\u001b[39mdecode(\u001b[38;5;124m\"\u001b[39m\u001b[38;5;124mutf-8\u001b[39m\u001b[38;5;124m\"\u001b[39m)\n\u001b[0;32m     16\u001b[0m     \u001b[38;5;28;01mimport\u001b[39;00m \u001b[38;5;21;01mjson\u001b[39;00m\n",
      "File \u001b[1;32mC:\\etc\\Lib\\urllib\\request.py:215\u001b[0m, in \u001b[0;36murlopen\u001b[1;34m(url, data, timeout, cafile, capath, cadefault, context)\u001b[0m\n\u001b[0;32m    213\u001b[0m \u001b[38;5;28;01melse\u001b[39;00m:\n\u001b[0;32m    214\u001b[0m     opener \u001b[38;5;241m=\u001b[39m _opener\n\u001b[1;32m--> 215\u001b[0m \u001b[38;5;28;01mreturn\u001b[39;00m opener\u001b[38;5;241m.\u001b[39mopen(url, data, timeout)\n",
      "File \u001b[1;32mC:\\etc\\Lib\\urllib\\request.py:521\u001b[0m, in \u001b[0;36mOpenerDirector.open\u001b[1;34m(self, fullurl, data, timeout)\u001b[0m\n\u001b[0;32m    519\u001b[0m \u001b[38;5;28;01mfor\u001b[39;00m processor \u001b[38;5;129;01min\u001b[39;00m \u001b[38;5;28mself\u001b[39m\u001b[38;5;241m.\u001b[39mprocess_response\u001b[38;5;241m.\u001b[39mget(protocol, []):\n\u001b[0;32m    520\u001b[0m     meth \u001b[38;5;241m=\u001b[39m \u001b[38;5;28mgetattr\u001b[39m(processor, meth_name)\n\u001b[1;32m--> 521\u001b[0m     response \u001b[38;5;241m=\u001b[39m meth(req, response)\n\u001b[0;32m    523\u001b[0m \u001b[38;5;28;01mreturn\u001b[39;00m response\n",
      "File \u001b[1;32mC:\\etc\\Lib\\urllib\\request.py:630\u001b[0m, in \u001b[0;36mHTTPErrorProcessor.http_response\u001b[1;34m(self, request, response)\u001b[0m\n\u001b[0;32m    627\u001b[0m \u001b[38;5;66;03m# According to RFC 2616, \"2xx\" code indicates that the client's\u001b[39;00m\n\u001b[0;32m    628\u001b[0m \u001b[38;5;66;03m# request was successfully received, understood, and accepted.\u001b[39;00m\n\u001b[0;32m    629\u001b[0m \u001b[38;5;28;01mif\u001b[39;00m \u001b[38;5;129;01mnot\u001b[39;00m (\u001b[38;5;241m200\u001b[39m \u001b[38;5;241m<\u001b[39m\u001b[38;5;241m=\u001b[39m code \u001b[38;5;241m<\u001b[39m \u001b[38;5;241m300\u001b[39m):\n\u001b[1;32m--> 630\u001b[0m     response \u001b[38;5;241m=\u001b[39m \u001b[38;5;28mself\u001b[39m\u001b[38;5;241m.\u001b[39mparent\u001b[38;5;241m.\u001b[39merror(\n\u001b[0;32m    631\u001b[0m         \u001b[38;5;124m'\u001b[39m\u001b[38;5;124mhttp\u001b[39m\u001b[38;5;124m'\u001b[39m, request, response, code, msg, hdrs)\n\u001b[0;32m    633\u001b[0m \u001b[38;5;28;01mreturn\u001b[39;00m response\n",
      "File \u001b[1;32mC:\\etc\\Lib\\urllib\\request.py:559\u001b[0m, in \u001b[0;36mOpenerDirector.error\u001b[1;34m(self, proto, *args)\u001b[0m\n\u001b[0;32m    557\u001b[0m \u001b[38;5;28;01mif\u001b[39;00m http_err:\n\u001b[0;32m    558\u001b[0m     args \u001b[38;5;241m=\u001b[39m (\u001b[38;5;28mdict\u001b[39m, \u001b[38;5;124m'\u001b[39m\u001b[38;5;124mdefault\u001b[39m\u001b[38;5;124m'\u001b[39m, \u001b[38;5;124m'\u001b[39m\u001b[38;5;124mhttp_error_default\u001b[39m\u001b[38;5;124m'\u001b[39m) \u001b[38;5;241m+\u001b[39m orig_args\n\u001b[1;32m--> 559\u001b[0m     \u001b[38;5;28;01mreturn\u001b[39;00m \u001b[38;5;28mself\u001b[39m\u001b[38;5;241m.\u001b[39m_call_chain(\u001b[38;5;241m*\u001b[39margs)\n",
      "File \u001b[1;32mC:\\etc\\Lib\\urllib\\request.py:492\u001b[0m, in \u001b[0;36mOpenerDirector._call_chain\u001b[1;34m(self, chain, kind, meth_name, *args)\u001b[0m\n\u001b[0;32m    490\u001b[0m \u001b[38;5;28;01mfor\u001b[39;00m handler \u001b[38;5;129;01min\u001b[39;00m handlers:\n\u001b[0;32m    491\u001b[0m     func \u001b[38;5;241m=\u001b[39m \u001b[38;5;28mgetattr\u001b[39m(handler, meth_name)\n\u001b[1;32m--> 492\u001b[0m     result \u001b[38;5;241m=\u001b[39m func(\u001b[38;5;241m*\u001b[39margs)\n\u001b[0;32m    493\u001b[0m     \u001b[38;5;28;01mif\u001b[39;00m result \u001b[38;5;129;01mis\u001b[39;00m \u001b[38;5;129;01mnot\u001b[39;00m \u001b[38;5;28;01mNone\u001b[39;00m:\n\u001b[0;32m    494\u001b[0m         \u001b[38;5;28;01mreturn\u001b[39;00m result\n",
      "File \u001b[1;32mC:\\etc\\Lib\\urllib\\request.py:639\u001b[0m, in \u001b[0;36mHTTPDefaultErrorHandler.http_error_default\u001b[1;34m(self, req, fp, code, msg, hdrs)\u001b[0m\n\u001b[0;32m    638\u001b[0m \u001b[38;5;28;01mdef\u001b[39;00m \u001b[38;5;21mhttp_error_default\u001b[39m(\u001b[38;5;28mself\u001b[39m, req, fp, code, msg, hdrs):\n\u001b[1;32m--> 639\u001b[0m     \u001b[38;5;28;01mraise\u001b[39;00m HTTPError(req\u001b[38;5;241m.\u001b[39mfull_url, code, msg, hdrs, fp)\n",
      "\u001b[1;31mHTTPError\u001b[0m: HTTP Error 404: Not Found"
     ]
    }
   ],
   "source": [
    "# التثبيت (شغليهم مرة واحدة فقط)\n",
    "# !pip install argostranslate==1.8.0 pyttsx3 pyperclip langdetect\n",
    "\n",
    "import argostranslate.package\n",
    "import argostranslate.translate\n",
    "import urllib.request\n",
    "import pyttsx3\n",
    "import pyperclip\n",
    "import os\n",
    "import tempfile\n",
    "from langdetect import detect\n",
    "\n",
    "# --- تحميل وتثبيت نموذج الترجمة تلقائيًا ---\n",
    "def install_translation_package(from_code, to_code):\n",
    "    url = \"https://www.argosopentech.com/argospm/index.json\"\n",
    "    response = urllib.request.urlopen(url)\n",
    "    packages = response.read().decode(\"utf-8\")\n",
    "\n",
    "    import json\n",
    "    packages = json.loads(packages)\n",
    "    for pkg in packages:\n",
    "        if pkg[\"from_code\"] == from_code and pkg[\"to_code\"] == to_code:\n",
    "            model_url = pkg[\"package_path\"]\n",
    "            with tempfile.NamedTemporaryFile(delete=False) as tmp_file:\n",
    "                print(f\"📥 جاري تحميل نموذج الترجمة: {from_code} → {to_code}...\")\n",
    "                urllib.request.urlretrieve(model_url, tmp_file.name)\n",
    "                argostranslate.package.install_from_path(tmp_file.name)\n",
    "                print(\"✅ النموذج تم تثبيته.\")\n",
    "            break\n",
    "\n",
    "# --- تحميل الحزم المثبتة ---\n",
    "def get_installed_languages():\n",
    "    return argostranslate.translate.get_installed_languages()\n",
    "\n",
    "# --- عرض اللغات المتاحة أوفلاين ---\n",
    "installed_languages = get_installed_languages()\n",
    "language_names = [lang.name for lang in installed_languages]\n",
    "print(\"📚 اللغات المدعومة حالياً (أوفلاين):\")\n",
    "print(\", \".join(language_names))\n",
    "\n",
    "# --- إدخال المستخدم ---\n",
    "text = input(\"\\n📝 Enter text to translate: \")\n",
    "target_lang_name = input(\"🌐 Enter target language (e.g., Arabic): \").capitalize()\n",
    "\n",
    "# --- تحديد اللغة الأصلية تلقائيًا ---\n",
    "source_lang_code = detect(text)\n",
    "source_lang_obj = next((lang for lang in installed_languages if lang.code == source_lang_code), None)\n",
    "target_lang_obj = next((lang for lang in installed_languages if lang.name == target_lang_name), None)\n",
    "\n",
    "# --- لو النموذج مش موجود، نحاول نحمله تلقائيًا\n",
    "if not (source_lang_obj and target_lang_obj):\n",
    "    print(\"🔍 جاري البحث عن نموذج الترجمة المناسب...\")\n",
    "    install_translation_package(source_lang_code, target_lang_obj.code if target_lang_obj else \"ar\")\n",
    "    installed_languages = get_installed_languages()\n",
    "    source_lang_obj = next((lang for lang in installed_languages if lang.code == source_lang_code), None)\n",
    "    target_lang_obj = next((lang for lang in installed_languages if lang.name == target_lang_name), None)\n",
    "\n",
    "# --- الترجمة ---\n",
    "try:\n",
    "    if source_lang_obj and target_lang_obj:\n",
    "        translation = source_lang_obj.get_translation(target_lang_obj)\n",
    "        translated = translation.translate(text)\n",
    "        print(\"\\n✅ Translated Text:\")\n",
    "        print(translated)\n",
    "\n",
    "        # نسخ الترجمة\n",
    "        do_copy = input(\"\\n📋 Do you want to copy the translation? (y/n): \")\n",
    "        if do_copy.lower() == \"y\":\n",
    "            pyperclip.copy(translated)\n",
    "            print(\"✔️ Copied to clipboard!\")\n",
    "\n",
    "        # نطق صوتي\n",
    "        do_speak = input(\"\\n🔊 Do you want to hear the translation? (y/n): \")\n",
    "        if do_speak.lower() == \"y\":\n",
    "            engine = pyttsx3.init()\n",
    "            engine.say(translated)\n",
    "            engine.runAndWait()\n",
    "    else:\n",
    "        print(\"❌ لم يتم العثور على النموذج بين اللغتين.\")\n",
    "except Exception as e:\n",
    "    print(f\"❌ Error: {e}\")\n"
   ]
  },
  {
   "cell_type": "code",
   "execution_count": null,
   "id": "5ab708de-663b-4675-a63e-4666242eebaf",
   "metadata": {},
   "outputs": [],
   "source": []
  }
 ],
 "metadata": {
  "kernelspec": {
   "display_name": "Python 3 (ipykernel)",
   "language": "python",
   "name": "python3"
  },
  "language_info": {
   "codemirror_mode": {
    "name": "ipython",
    "version": 3
   },
   "file_extension": ".py",
   "mimetype": "text/x-python",
   "name": "python",
   "nbconvert_exporter": "python",
   "pygments_lexer": "ipython3",
   "version": "3.12.7"
  }
 },
 "nbformat": 4,
 "nbformat_minor": 5
}
